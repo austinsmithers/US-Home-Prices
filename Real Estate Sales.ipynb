
git add <file>
git commit -m "Deleted file"
git push origin <branch>
